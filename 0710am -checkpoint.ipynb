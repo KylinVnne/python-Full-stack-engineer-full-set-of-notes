{
 "cells": [
  {
   "cell_type": "markdown",
   "metadata": {},
   "source": [
    "# day06 回顾：\n",
    "\n",
    "列表：是可变的序列， 是容器；\n",
    "\n",
    "索引和切片操作：列表可以索引赋值和切片赋值；\n",
    "\n",
    "del 语句：\n",
    "用于删除列表中的元素\n",
    "\n",
    "del 列表[整数 ] \n",
    "\n",
    "# day07 笔记\n",
    "\n",
    "元组 tuple\n",
    "\n",
    "元组是不可变的序列，同list一样，元组可以存放任意类型数据的容器\n",
    "\n",
    "元组的表示方法：\n",
    "用小括号（）括起来，单个元素括起来后加逗号（，），区分单个对象还是元组。\n",
    "\n",
    "创建空元组的字面值：\n",
    "t = （） 空元组\n",
    "\n",
    "创建非空元组的字面值表示：\n",
    "\n",
    "t = 200， \n",
    "\n",
    "t = （20，）\n",
    "\n",
    "t = （1， 2， 3）\n",
    "\n",
    "t = 100， 200， 300\n"
   ]
  },
  {
   "cell_type": "code",
   "execution_count": 5,
   "metadata": {},
   "outputs": [
    {
     "name": "stdout",
     "output_type": "stream",
     "text": [
      "(200,)\n",
      "(20,)\n",
      "(1, 2, 3)\n",
      "(100, 200, 300)\n"
     ]
    }
   ],
   "source": [
    "t = 200,\n",
    "print(t)\n",
    "t = (20,)\n",
    "print(t)\n",
    "t = (1,2,3)\n",
    "print(t)\n",
    "t = 100,200,300\n",
    "print(t)"
   ]
  },
  {
   "cell_type": "markdown",
   "metadata": {},
   "source": [
    "函数type（x）用来返回x对应的类型，元组的错误实例：\n",
    "t = （20） # t绑定20这个对对象\n",
    "x，y，z = 100， 200， 300 # 序列赋值\n",
    "\n",
    "## 元组的运算：\n",
    "\n",
    "  \n",
    "  \n",
    "+ += * *= \n",
    "\n",
    "< <= > >= ==  != \n",
    "\n",
    "in , not in  \n",
    "\n",
    "切片[]， 切片[:]/[::]\n",
    "\n",
    "+: 加号用于拼接元组\n",
    "\n",
    "* : 用于生成重复的元组\n",
    "\n",
    "元组的比较运算：\n",
    "\n",
    "规则与列表的比较规则完全相同。\n",
    "\n",
    "in / not in 运算符\n",
    "\n",
    "规则与列表的比较规则完全相同。\n",
    "\n",
    "切片和索引：\n",
    "索引取值和切片取值的规则与列表完全相同；\n",
    "元组不支持索引赋值和切片赋值（因为元组不可被改变）\n",
    "\n"
   ]
  },
  {
   "cell_type": "code",
   "execution_count": 2,
   "metadata": {},
   "outputs": [
    {
     "data": {
      "text/plain": [
       "True"
      ]
     },
     "execution_count": 2,
     "metadata": {},
     "output_type": "execute_result"
    }
   ],
   "source": [
    "(1, 2, 3) < (2, 3, 1)"
   ]
  },
  {
   "cell_type": "code",
   "execution_count": 4,
   "metadata": {},
   "outputs": [
    {
     "data": {
      "text/plain": [
       "True"
      ]
     },
     "execution_count": 4,
     "metadata": {},
     "output_type": "execute_result"
    }
   ],
   "source": [
    "2 in (1, 2, 3)"
   ]
  },
  {
   "cell_type": "code",
   "execution_count": 6,
   "metadata": {},
   "outputs": [
    {
     "data": {
      "text/plain": [
       "False"
      ]
     },
     "execution_count": 6,
     "metadata": {},
     "output_type": "execute_result"
    }
   ],
   "source": [
    "2 not in (1, 2, 3)"
   ]
  },
  {
   "cell_type": "code",
   "execution_count": 11,
   "metadata": {},
   "outputs": [
    {
     "name": "stdout",
     "output_type": "stream",
     "text": [
      "(3, 4)\n",
      "(1,)\n"
     ]
    }
   ],
   "source": [
    "t = tuple(range(1, 10))\n",
    "print(t [2:4])\n",
    "print(t[::10])"
   ]
  },
  {
   "cell_type": "code",
   "execution_count": 12,
   "metadata": {},
   "outputs": [
    {
     "name": "stdout",
     "output_type": "stream",
     "text": [
      "Help on class tuple in module builtins:\n",
      "\n",
      "class tuple(object)\n",
      " |  tuple(iterable=(), /)\n",
      " |  \n",
      " |  Built-in immutable sequence.\n",
      " |  \n",
      " |  If no argument is given, the constructor returns an empty tuple.\n",
      " |  If iterable is specified the tuple is initialized from iterable's items.\n",
      " |  \n",
      " |  If the argument is a tuple, the return value is the same object.\n",
      " |  \n",
      " |  Methods defined here:\n",
      " |  \n",
      " |  __add__(self, value, /)\n",
      " |      Return self+value.\n",
      " |  \n",
      " |  __contains__(self, key, /)\n",
      " |      Return key in self.\n",
      " |  \n",
      " |  __eq__(self, value, /)\n",
      " |      Return self==value.\n",
      " |  \n",
      " |  __ge__(self, value, /)\n",
      " |      Return self>=value.\n",
      " |  \n",
      " |  __getattribute__(self, name, /)\n",
      " |      Return getattr(self, name).\n",
      " |  \n",
      " |  __getitem__(self, key, /)\n",
      " |      Return self[key].\n",
      " |  \n",
      " |  __getnewargs__(self, /)\n",
      " |  \n",
      " |  __gt__(self, value, /)\n",
      " |      Return self>value.\n",
      " |  \n",
      " |  __hash__(self, /)\n",
      " |      Return hash(self).\n",
      " |  \n",
      " |  __iter__(self, /)\n",
      " |      Implement iter(self).\n",
      " |  \n",
      " |  __le__(self, value, /)\n",
      " |      Return self<=value.\n",
      " |  \n",
      " |  __len__(self, /)\n",
      " |      Return len(self).\n",
      " |  \n",
      " |  __lt__(self, value, /)\n",
      " |      Return self<value.\n",
      " |  \n",
      " |  __mul__(self, value, /)\n",
      " |      Return self*value.\n",
      " |  \n",
      " |  __ne__(self, value, /)\n",
      " |      Return self!=value.\n",
      " |  \n",
      " |  __repr__(self, /)\n",
      " |      Return repr(self).\n",
      " |  \n",
      " |  __rmul__(self, value, /)\n",
      " |      Return value*self.\n",
      " |  \n",
      " |  count(self, value, /)\n",
      " |      Return number of occurrences of value.\n",
      " |  \n",
      " |  index(self, value, start=0, stop=9223372036854775807, /)\n",
      " |      Return first index of value.\n",
      " |      \n",
      " |      Raises ValueError if the value is not present.\n",
      " |  \n",
      " |  ----------------------------------------------------------------------\n",
      " |  Static methods defined here:\n",
      " |  \n",
      " |  __new__(*args, **kwargs) from builtins.type\n",
      " |      Create and return a new object.  See help(type) for accurate signature.\n",
      "\n"
     ]
    }
   ],
   "source": [
    "help(tuple)"
   ]
  },
  {
   "cell_type": "markdown",
   "metadata": {},
   "source": [
    "## 序列相关的函数\n",
    "\n",
    "len（x）、\n",
    "max（x）、\n",
    "min（x）、\n",
    "sum（x）、\n",
    "any（x）、\n",
    "all（x）。\n",
    "\n",
    "构造函数：\n",
    "\n",
    "   str（x） 创建字符串\n",
    "\n",
    "   list（iterable） 创建列表\n",
    "\n",
    "   tuple（iterable） 创建元组\n",
    "\n",
    "\n",
    "reversed （可迭代对象） 返回反向的可迭代对象\n",
    "\n",
    "sorted （iterable， key = None， reverse = False） 返回已经排列的顺序\n",
    "\n"
   ]
  },
  {
   "cell_type": "markdown",
   "metadata": {},
   "source": [
    "# 容器小结\n",
    "\n",
    "字符串 str  #不可变的序列，只能存字符\n",
    "\n",
    "列表 list  # 可变的序列，可以存任意数据\n",
    "\n",
    "元组 tuple  # 不变的序列，可以存任意数据\n",
    "\n"
   ]
  },
  {
   "cell_type": "markdown",
   "metadata": {},
   "source": [
    "# 字典 dict\n",
    "\n",
    "## 什么是字典\n",
    "\n",
    "1、字典是一种可变的容器，可以存储任意类型的数据\n",
    "\n",
    "2、字典中的每个数据都是用“键（key）”进行索引，而不像序列可以用整数下标来进行索引\n",
    "\n",
    "3、字典中的数据没有先后关系，字典的存储是无序的\n",
    "\n",
    "4、字典中的数据以键（key）-值（value）对形式进行映射存储\n",
    "\n",
    "5、字典的键不能重复，且只能用不可变类型作为字典的键\n",
    "\n",
    "字典的字面值表示方法：\n",
    "\n",
    "字典的表示方式是以{}扩起来，以冒号（：）\n",
    "\n",
    "分隔键-值对，各键-值对之间用逗号隔开\n",
    "\n",
    "创建空字典的字面值：\n",
    "\n",
    "d = { } # d绑定空字典\n",
    "\n"
   ]
  },
  {
   "cell_type": "code",
   "execution_count": 21,
   "metadata": {},
   "outputs": [
    {
     "name": "stdout",
     "output_type": "stream",
     "text": [
      "{'name': 'panda', 'age': 23}\n"
     ]
    },
    {
     "data": {
      "text/plain": [
       "1482313294184"
      ]
     },
     "execution_count": 21,
     "metadata": {},
     "output_type": "execute_result"
    }
   ],
   "source": [
    "# 创建空字典的字面值\n",
    "d = {}\n",
    "\n",
    "# 创建非空字典的字面值\n",
    "\n",
    "d = {\"name\":\"panda\",\"age\":23}\n",
    "\n",
    "print(d)\n",
    "len(d)\n",
    "id(d)"
   ]
  },
  {
   "cell_type": "code",
   "execution_count": 23,
   "metadata": {},
   "outputs": [
    {
     "data": {
      "text/plain": [
       "{1: 2, 'A': 'B'}"
      ]
     },
     "execution_count": 23,
     "metadata": {},
     "output_type": "execute_result"
    }
   ],
   "source": [
    "d = dict(([1, 2], \"AB\"))\n",
    "d"
   ]
  },
  {
   "cell_type": "markdown",
   "metadata": {},
   "source": [
    "## 字典的值（key）必须为不可变类型\n",
    "bool、int、float、complex、str、tuple、frozenset、bytes（后面再讲）\n",
    "\n",
    "字典的值（value）可以是任意类型\n",
    "\n",
    "可变的数据类型有四种：\n",
    "\n",
    "list 列表\n",
    "\n",
    "dict 字典\n",
    "\n",
    "set 集合\n",
    "\n",
    "bytearray 字节数组"
   ]
  }
 ],
 "metadata": {
  "kernelspec": {
   "display_name": "Python 3",
   "language": "python",
   "name": "python3"
  },
  "language_info": {
   "codemirror_mode": {
    "name": "ipython",
    "version": 3
   },
   "file_extension": ".py",
   "mimetype": "text/x-python",
   "name": "python",
   "nbconvert_exporter": "python",
   "pygments_lexer": "ipython3",
   "version": "3.7.3"
  }
 },
 "nbformat": 4,
 "nbformat_minor": 2
}
