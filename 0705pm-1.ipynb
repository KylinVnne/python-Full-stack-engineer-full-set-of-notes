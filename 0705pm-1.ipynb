{
 "cells": [
  {
   "cell_type": "code",
   "execution_count": 6,
   "metadata": {},
   "outputs": [
    {
     "name": "stdout",
     "output_type": "stream",
     "text": [
      "请输入一个整数：-7\n"
     ]
    }
   ],
   "source": [
    "\"\"\"\n",
    "练习：\n",
    "输入一个数，打印指定宽度的正方形，如：\n",
    "输入：5\n",
    "打印如下正方形：\n",
    "1 2 3 4 5\n",
    "1 2 3 4 5\n",
    "1 2 3 4 5\n",
    "1 2 3 4 5\n",
    "1 2 3 4 5\n",
    "\"\"\"\n",
    "n = int(input(\"请输入一个整数：\"))\n",
    "i = 0\n",
    "j = 0\n",
    "while i < n:\n",
    "    # 打印其中的一行：\n",
    "    j = 1  # 控制一行内数字的变量\n",
    "    while j <= n:\n",
    "        print(j, end = '')\n",
    "        j += 1\n",
    "    print()\n",
    "    i += 1"
   ]
  }
 ],
 "metadata": {
  "kernelspec": {
   "display_name": "Python 3",
   "language": "python",
   "name": "python3"
  },
  "language_info": {
   "codemirror_mode": {
    "name": "ipython",
    "version": 3
   },
   "file_extension": ".py",
   "mimetype": "text/x-python",
   "name": "python",
   "nbconvert_exporter": "python",
   "pygments_lexer": "ipython3",
   "version": "3.7.3"
  }
 },
 "nbformat": 4,
 "nbformat_minor": 2
}
