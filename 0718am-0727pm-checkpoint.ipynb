{
 "cells": [
  {
   "cell_type": "markdown",
   "metadata": {},
   "source": [
    "# 0718am：\n",
    "\n",
    "## day12内容回顾：\n",
    "\n",
    "### 装饰器：\n",
    "\n"
   ]
  },
  {
   "cell_type": "code",
   "execution_count": 5,
   "metadata": {},
   "outputs": [
    {
     "name": "stdout",
     "output_type": "stream",
     "text": [
      "二锅头\n"
     ]
    }
   ],
   "source": [
    "def mydeco(fn):\n",
    "    def fy():\n",
    "        print(\"二锅头\")\n",
    "    return fy\n",
    "\n",
    "@mydeco\n",
    "def fx():\n",
    "    print(\"茅台\")\n",
    "    \n",
    "fx()"
   ]
  }
 ],
 "metadata": {
  "kernelspec": {
   "display_name": "Python 3",
   "language": "python",
   "name": "python3"
  },
  "language_info": {
   "codemirror_mode": {
    "name": "ipython",
    "version": 3
   },
   "file_extension": ".py",
   "mimetype": "text/x-python",
   "name": "python",
   "nbconvert_exporter": "python",
   "pygments_lexer": "ipython3",
   "version": "3.7.3"
  }
 },
 "nbformat": 4,
 "nbformat_minor": 2
}
