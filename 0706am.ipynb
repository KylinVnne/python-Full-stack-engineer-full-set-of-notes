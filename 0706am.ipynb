{
 "cells": [
  {
   "cell_type": "markdown",
   "metadata": {},
   "source": [
    "# day04回顾\n",
    "\n",
    "# day05笔记\n",
    "\n",
    "## 1- for语句：\n",
    "\n",
    "作用：\n",
    "用来遍历可迭代对象的数据元素\n",
    "\n",
    "可迭代对象是指能依次获取数据元素的对象\n",
    "可迭代对象包括：\n",
    "字符串 str\n",
    "列表 list\n",
    "元组 tuple\n",
    "字典 dict .....\n",
    "\n",
    "## 2-for语句语法\n",
    " \n",
    " for 变量列表 in 可迭代对象：\n",
    " \n",
    "   语句块1\n",
    "   \n",
    " else：\n",
    " \n",
    "   语句块2\n",
    "   \n",
    "说明：\n",
    "当循环内部用break语句终止循环时，else字句部分的语句不会执行。\n",
    "例如："
   ]
  },
  {
   "cell_type": "code",
   "execution_count": 2,
   "metadata": {},
   "outputs": [
    {
     "name": "stdout",
     "output_type": "stream",
     "text": [
      "ch========> p\n",
      "ch========> a\n",
      "ch========> n\n",
      "ch========> n\n",
      "ch========> e\n",
      "ch========> n\n",
      "ch========> g\n",
      "ch========> x\n",
      "ch========> i\n",
      "ch========> a\n",
      "ch========> n\n",
      "ch========> g\n",
      "ch========> 0\n",
      "ch========> 0\n",
      "ch========> 1\n"
     ]
    }
   ],
   "source": [
    "s = \"pannengxiang001\"\n",
    "for ch in s:\n",
    "    print(\"ch========>\",ch)"
   ]
  },
  {
   "cell_type": "code",
   "execution_count": null,
   "metadata": {},
   "outputs": [],
   "source": [
    "s = \"\"\n",
    "for ch in s:\n",
    "    print(\"ch========>\",ch)"
   ]
  },
  {
   "cell_type": "code",
   "execution_count": 15,
   "metadata": {},
   "outputs": [
    {
     "name": "stdout",
     "output_type": "stream",
     "text": [
      "请输入任意字符串：hello， Pannengxiang\n",
      "A字符的个数是： 0\n",
      "空格字符串的个数是 1\n"
     ]
    }
   ],
   "source": [
    "\"\"\"\n",
    "练习：\n",
    "任意输入一段字符串\n",
    "1-计算你输入的字符中”A“的个数，并打印出来\n",
    "2-计算出空格的个数，并打印出来（要求使用for语句，不能使用S.count方法）\n",
    "思考用while语句能否实现上述功能\n",
    "\"\"\"\n",
    "s = input(\"请输入任意字符串：\")\n",
    "n = 0\n",
    "m = 0\n",
    "\n",
    "for ch in s:\n",
    "    \n",
    "    if ch == \"A\":\n",
    "        n += 1\n",
    "    elif ch == \" \":\n",
    "        m += 1\n",
    "        \n",
    "print(\"A字符的个数是：\",n)\n",
    "print(\"空格字符串的个数是\",m)\n"
   ]
  },
  {
   "cell_type": "code",
   "execution_count": 20,
   "metadata": {},
   "outputs": [
    {
     "name": "stdout",
     "output_type": "stream",
     "text": [
      "请输入任意字符串：健康就好机会\n",
      "A字符的个数是： 0\n",
      "空格字符串的个数是 0\n"
     ]
    }
   ],
   "source": [
    "# 思考用while语句能否实现上述功能\n",
    "\n",
    "s = input(\"请输入任意字符串：\")\n",
    "\n",
    "count_A = 0\n",
    "count_space = 0\n",
    "i = 0 # 获取字符串数据的索引\n",
    "while i < len(s):\n",
    "    ch = s[i] # 取出字符\n",
    "    if ch == 'A':   # 先判断ch是否是“A”\n",
    "        count_A  += 1\n",
    "    if ch == \" \":\n",
    "        count_space = 1\n",
    "    i += 1\n",
    "\n",
    "print(\"A字符的个数是：\",count_A)\n",
    "print(\"空格字符串的个数是\",count_space)"
   ]
  },
  {
   "cell_type": "code",
   "execution_count": 22,
   "metadata": {},
   "outputs": [
    {
     "name": "stdout",
     "output_type": "stream",
     "text": [
      "A\n",
      "B\n",
      "C\n",
      "D\n"
     ]
    }
   ],
   "source": [
    "s = \"ABCDE\"\n",
    "\n",
    "for c in s:\n",
    "    print(c)\n",
    "    if c == \"D\":\n",
    "        break\n",
    "        \n",
    "else:\n",
    "    print(\"for语句因为可迭代对象不能提供数据而结束\")"
   ]
  },
  {
   "cell_type": "markdown",
   "metadata": {},
   "source": [
    "## 3-range（）函数：\n",
    "\n",
    "格式：\n",
    "  range（stop）\n",
    "  从零开始，每次生成一个整数后加1操作，直到stop为止（不包含stop\n",
    " range（star，stop[, step]）\n",
    " range 类型表示不可变的数字序列，通常用于在 for 循环中循环指定的次数。\n",
    "\n",
    "class range(stop)\n",
    "class range(start, stop[, step])\n",
    "range 构造器的参数必须为整数（可以是内置的 int 或任何实现了 __index__ 特殊方法的对象）。 如果省略 step 参数，其默认值为 1。 如果省略 start 参数，其默认值为 0，如果 step 为零则会引发 ValueError。\n",
    "\n",
    "如果 step 为正值，确定 range r 内容的公式为 r[i] = start + step*i 其中 i >= 0 且 r[i] < stop。\n",
    "\n",
    "如果 step 为负值，确定 range 内容的公式仍然为 r[i] = start + step*i，但限制条件改为 i >= 0 且 r[i] > stop.\n",
    "\n",
    "如果 r[0] 不符合值的限制条件，则该 range 对象为空。 range 对象确实支持负索引，但是会将其解读为从正索引所确定的序列的末尾开始索引。\n",
    "\n",
    "元素绝对值大于 sys.maxsize 的 range 对象是被允许的，但某些特性 (例如 len()) 可能引发 OverflowError。\n",
    "\n",
    "一些 range 对象的例子:\n",
    "range 对象实现了 一般 序列的所有操作，但拼接和重复除外（这是由于 range 对象只能表示符合严格模式的序列，而重复和拼接通常都会违反这样的模式）。\n",
    "\n",
    "start\n",
    "start 形参的值 (如果该形参未提供则为 0)\n",
    "\n",
    "stop\n",
    "stop 形参的值\n",
    "\n",
    "step\n",
    "step 形参的值 (如果该形参未提供则为 1)\n",
    "\n",
    "range 类型相比常规 list 或 tuple 的优势在于一个 range 对象总是占用固定数量的（较小）内存，不论其所表示的范围有多大（因为它只保存了 start, stop 和 step 值，并会根据需要计算具体单项或子范围的值）。\n",
    "\n",
    "range 对象实现了 collections.abc.Sequence ABC，提供如包含检测、元素索引查找、切片等特性，并支持负索引 (参见 序列类型 --- list, tuple, range):"
   ]
  },
  {
   "cell_type": "code",
   "execution_count": 27,
   "metadata": {},
   "outputs": [
    {
     "data": {
      "text/plain": [
       "[1, 2, 3, 4, 5, 6, 7, 8, 9, 10, 11, 12, 13, 14, 15, 16, 17, 18, 19, 20]"
      ]
     },
     "execution_count": 27,
     "metadata": {},
     "output_type": "execute_result"
    }
   ],
   "source": [
    "list(range(1,21))"
   ]
  },
  {
   "cell_type": "code",
   "execution_count": 28,
   "metadata": {},
   "outputs": [
    {
     "name": "stdout",
     "output_type": "stream",
     "text": [
      "1\n",
      "2\n",
      "3\n",
      "4\n",
      "5\n",
      "6\n",
      "7\n",
      "8\n",
      "9\n",
      "10\n",
      "11\n",
      "12\n",
      "13\n",
      "14\n",
      "15\n",
      "16\n",
      "17\n",
      "18\n",
      "19\n",
      "20\n"
     ]
    }
   ],
   "source": [
    "for i in range(1, 21):\n",
    "    print(i)"
   ]
  },
  {
   "cell_type": "code",
   "execution_count": 30,
   "metadata": {},
   "outputs": [
    {
     "data": {
      "text/plain": [
       "[]"
      ]
     },
     "execution_count": 30,
     "metadata": {},
     "output_type": "execute_result"
    }
   ],
   "source": [
    " list(range(0))"
   ]
  },
  {
   "cell_type": "code",
   "execution_count": 31,
   "metadata": {},
   "outputs": [
    {
     "data": {
      "text/plain": [
       "[]"
      ]
     },
     "execution_count": 31,
     "metadata": {},
     "output_type": "execute_result"
    }
   ],
   "source": [
    "list(range(1, 0))"
   ]
  },
  {
   "cell_type": "code",
   "execution_count": 1,
   "metadata": {},
   "outputs": [
    {
     "name": "stdout",
     "output_type": "stream",
     "text": [
      "5\n",
      "16\n",
      "27\n",
      "38\n",
      "49\n",
      "60\n",
      "71\n",
      "82\n",
      "93\n"
     ]
    }
   ],
   "source": [
    "\"\"\"\n",
    "练习：\n",
    "请100以内有哪些整数与自身加1的乘积再对11求余为8？\n",
    "\"\"\"\n",
    "\n",
    "for i in range(100):\n",
    "    if (i+1)*i % 11 == 8:\n",
    "        print(i)\n",
    "    "
   ]
  },
  {
   "cell_type": "code",
   "execution_count": 4,
   "metadata": {},
   "outputs": [
    {
     "name": "stdout",
     "output_type": "stream",
     "text": [
      "2500\n",
      "下面用while来实现：\n",
      "2500\n"
     ]
    }
   ],
   "source": [
    "\"\"\"\n",
    "练习1：写程序计算1+3+5+7+ 、、、+99的和\n",
    "\"\"\"\n",
    "sum = 0\n",
    "\n",
    "for i in range(1, 100,2):\n",
    "        sum += i\n",
    "print(sum)\n",
    "\n",
    "print(\"下面用while来实现：\")\n",
    "s = 0\n",
    "i = 1\n",
    "while i <= 99:\n",
    "    s += i\n",
    "    i += 2\n",
    "print(s)"
   ]
  },
  {
   "cell_type": "markdown",
   "metadata": {},
   "source": [
    "## 4-for语句嵌套\n",
    "实例：\n",
    "for x in \"ABC\":\n",
    "\n",
    "  for y in \"123\":\n",
    "  \n",
    "  print(x +y)\n",
    "  "
   ]
  },
  {
   "cell_type": "code",
   "execution_count": 5,
   "metadata": {},
   "outputs": [
    {
     "name": "stdout",
     "output_type": "stream",
     "text": [
      "A1\n",
      "A2\n",
      "A3\n",
      "B1\n",
      "B2\n",
      "B3\n",
      "C1\n",
      "C2\n",
      "C3\n"
     ]
    }
   ],
   "source": [
    "for x in \"ABC\":\n",
    "    for y in \"123\":\n",
    "        print(x +y)"
   ]
  },
  {
   "cell_type": "code",
   "execution_count": 7,
   "metadata": {},
   "outputs": [
    {
     "name": "stdout",
     "output_type": "stream",
     "text": [
      "0 0 ABC\n",
      "0 1 ABC\n",
      "0 2 ABC\n",
      "0 3 ABC\n",
      "0 4 ABC\n",
      "0 5 ABC\n",
      "0 6 ABC\n",
      "0 7 ABC\n",
      "0 8 ABC\n",
      "0 9 ABC\n",
      "1 0 ABC\n",
      "1 1 ABC\n",
      "1 2 ABC\n",
      "1 3 ABC\n",
      "1 4 ABC\n",
      "1 5 ABC\n",
      "1 6 ABC\n",
      "1 7 ABC\n",
      "1 8 ABC\n",
      "1 9 ABC\n",
      "2 0 ABC\n",
      "2 1 ABC\n",
      "2 2 ABC\n",
      "2 3 ABC\n",
      "2 4 ABC\n",
      "2 5 ABC\n",
      "2 6 ABC\n",
      "2 7 ABC\n",
      "2 8 ABC\n",
      "2 9 ABC\n",
      "3 0 ABC\n",
      "3 1 ABC\n",
      "3 2 ABC\n",
      "3 3 ABC\n",
      "3 4 ABC\n",
      "3 5 ABC\n",
      "3 6 ABC\n",
      "3 7 ABC\n",
      "3 8 ABC\n",
      "3 9 ABC\n",
      "4 0 ABC\n",
      "4 1 ABC\n",
      "4 2 ABC\n",
      "4 3 ABC\n",
      "4 4 ABC\n",
      "4 5 ABC\n",
      "4 6 ABC\n",
      "4 7 ABC\n",
      "4 8 ABC\n",
      "4 9 ABC\n"
     ]
    }
   ],
   "source": [
    "for x in range(5):\n",
    "    for y in range(10):\n",
    "        print(x, y, 'ABC')"
   ]
  },
  {
   "cell_type": "code",
   "execution_count": 14,
   "metadata": {},
   "outputs": [
    {
     "name": "stdout",
     "output_type": "stream",
     "text": [
      "1\n",
      "1\n",
      "2\n",
      "3\n",
      "4\n",
      "5\n",
      "2\n",
      "1\n",
      "2\n",
      "3\n",
      "4\n",
      "5\n",
      "3\n",
      "1\n",
      "2\n",
      "3\n",
      "4\n",
      "5\n",
      "4\n",
      "1\n",
      "2\n",
      "3\n",
      "4\n",
      "5\n",
      "5\n",
      "1\n",
      "2\n",
      "3\n",
      "4\n",
      "5\n"
     ]
    }
   ],
   "source": [
    "for x in range(1, 6):\n",
    "    print(x)\n",
    "    for y in range(1, 6):\n",
    "        print( y)\n",
    "        "
   ]
  },
  {
   "cell_type": "code",
   "execution_count": 17,
   "metadata": {},
   "outputs": [
    {
     "name": "stdout",
     "output_type": "stream",
     "text": [
      "请输入：6\n",
      "1 2 3 4 5 6 \n",
      "1 2 3 4 5 6 \n",
      "1 2 3 4 5 6 \n",
      "1 2 3 4 5 6 \n",
      "1 2 3 4 5 6 \n",
      "1 2 3 4 5 6 \n"
     ]
    }
   ],
   "source": [
    "w = int(input(\"请输入：\"))\n",
    "for line in range(1, w +1):\n",
    "    for x in range(1, w+1):\n",
    "        print(x, end = \" \")\n",
    "    print()  # 打印完毕后换行\n",
    "    "
   ]
  },
  {
   "attachments": {
    "image.png": {
     "image/png": "[encoded data removed]"
    }
   },
   "cell_type": "markdown",
   "metadata": {},
   "source": [
    "![image.png](attachment:image.png)"
   ]
  },
  {
   "cell_type": "code",
   "execution_count": 25,
   "metadata": {},
   "outputs": [
    {
     "name": "stdout",
     "output_type": "stream",
     "text": [
      "请输入：4\n",
      " 1  2  3  4 \n",
      " 2  3  4  5 \n",
      " 3  4  5  6 \n",
      " 4  5  6  7 \n"
     ]
    }
   ],
   "source": [
    "w = int(input(\"请输入：\"))\n",
    "for line in range(1, w +1):\n",
    "    for x in range(line, w+line):\n",
    "        print(\"%2d\"%x, end = \" \")\n",
    "    print()  # 打印完毕后换行"
   ]
  },
  {
   "cell_type": "markdown",
   "metadata": {},
   "source": [
    "## 5-continue 语句：\n",
    "问题：\n",
    "如何让程序不再向下执行，重新开始新的循环\n",
    "\n",
    "continue语句的作用：\n",
    "用于循环语句中（while ， for语句），不再执行本次循环内continue之后的语句，重新开始一次新的循环\n",
    "说明：\n",
    "1-在while语句中执行continue语句，将会直接跳转到while语句的真值表达式处重新判断循环条件\n",
    "2-在for语句中，执行continue语句，将会从可迭代对象中取一下元素绑定变量后再次进行循环。"
   ]
  },
  {
   "cell_type": "code",
   "execution_count": 32,
   "metadata": {},
   "outputs": [
    {
     "name": "stdout",
     "output_type": "stream",
     "text": [
      "0\n",
      "1\n",
      "3\n",
      "4\n"
     ]
    }
   ],
   "source": [
    "for x in range(5):\n",
    "    if x == 2:\n",
    "        continue\n",
    "    print(x)\n"
   ]
  },
  {
   "cell_type": "markdown",
   "metadata": {},
   "source": [
    "for x in range(5):\n",
    "    if x == 2:\n",
    "        break\n",
    "    print(x)\n",
    "    "
   ]
  },
  {
   "cell_type": "code",
   "execution_count": 37,
   "metadata": {},
   "outputs": [
    {
     "name": "stdout",
     "output_type": "stream",
     "text": [
      "0\n",
      "2\n",
      "4\n",
      "6\n",
      "8\n"
     ]
    }
   ],
   "source": [
    "# 打印10以内的偶数\n",
    "for n in range(10):\n",
    "    if n % 2 == 1:\n",
    "        continue\n",
    "    print(n)\n",
    "    "
   ]
  },
  {
   "cell_type": "code",
   "execution_count": 1,
   "metadata": {},
   "outputs": [
    {
     "name": "stdout",
     "output_type": "stream",
     "text": [
      "请输入开始数：2\n",
      "请输入结束的数：4\n",
      "3\n"
     ]
    }
   ],
   "source": [
    "\"\"\"\n",
    "练习：\n",
    "输入一个整数用用begin绑定，再输入一个整数用end绑定，打印从begin开始，到end结束内的全部奇数（不包含end）\n",
    "\"\"\"\n",
    "begin = int(input(\"请输入开始数：\"))\n",
    "end = int(input(\"请输入结束的数：\"))\n",
    "for x in range(begin, end):\n",
    "    if x % 2 == 0:\n",
    "        continue\n",
    "    print(x) "
   ]
  },
  {
   "cell_type": "markdown",
   "metadata": {},
   "source": [
    "# 6-列表 list\n",
    "\n",
    "## 列表的定义：\n",
    "\n",
    "1、列表是一种容器（通常用来存储计算机的数据对象）\n",
    "\n",
    "2、列表是可以被改变的序列\n",
    "\n",
    "3、列表是由一系列特定元素组成的，元素与元素之间可能没有任何的关联关系，但他们之间有先后顺序关系。\n",
    "\n",
    "## 创建空列表的方式：\n",
    "\n",
    "list1 = []\n",
    "\n",
    "## 创建非空列表的方式：\n",
    "\n",
    "list1 = [1, 2, 3, 4]\n",
    "\n",
    "\n",
    "\n"
   ]
  },
  {
   "cell_type": "code",
   "execution_count": 3,
   "metadata": {},
   "outputs": [
    {
     "name": "stdout",
     "output_type": "stream",
     "text": [
      "[]\n"
     ]
    }
   ],
   "source": [
    "list1 = []\n",
    "print(list1)"
   ]
  },
  {
   "cell_type": "code",
   "execution_count": 5,
   "metadata": {},
   "outputs": [
    {
     "data": {
      "text/plain": [
       "[1, 3, 4, 5]"
      ]
     },
     "execution_count": 5,
     "metadata": {},
     "output_type": "execute_result"
    }
   ],
   "source": [
    "list2 = [1, 3, 4,5]\n",
    "list2"
   ]
  },
  {
   "cell_type": "code",
   "execution_count": 7,
   "metadata": {},
   "outputs": [
    {
     "data": {
      "text/plain": [
       "['beijing', 'shanghai']"
      ]
     },
     "execution_count": 7,
     "metadata": {},
     "output_type": "execute_result"
    }
   ],
   "source": [
    "list3 = ['beijing', 'shanghai']\n",
    "list3"
   ]
  },
  {
   "cell_type": "code",
   "execution_count": 9,
   "metadata": {},
   "outputs": [
    {
     "data": {
      "text/plain": [
       "['beijing', 'shanghai', 2, 45]"
      ]
     },
     "execution_count": 9,
     "metadata": {},
     "output_type": "execute_result"
    }
   ],
   "source": [
    "list4 = ['beijing', 'shanghai', 2, 45]\n",
    "list4"
   ]
  },
  {
   "cell_type": "code",
   "execution_count": 11,
   "metadata": {},
   "outputs": [
    {
     "data": {
      "text/plain": [
       "['beijing', 'shanghai', 2, 45, [3, 45, 35]]"
      ]
     },
     "execution_count": 11,
     "metadata": {},
     "output_type": "execute_result"
    }
   ],
   "source": [
    "list4 = ['beijing', 'shanghai', 2, 45, [3, 45, 35]]\n",
    "list4"
   ]
  },
  {
   "cell_type": "markdown",
   "metadata": {},
   "source": [
    "## 列表的构造函数list\n",
    "\n",
    "list（）生成一个空列表，等同于 []\n",
    "\n",
    "list（iterable） 可迭代对象创建列表"
   ]
  },
  {
   "cell_type": "code",
   "execution_count": 12,
   "metadata": {},
   "outputs": [
    {
     "data": {
      "text/plain": [
       "[0, 1, 2, 3, 4, 5, 6, 7, 8, 9]"
      ]
     },
     "execution_count": 12,
     "metadata": {},
     "output_type": "execute_result"
    }
   ],
   "source": [
    "L = list(range(10))\n",
    "L"
   ]
  },
  {
   "cell_type": "code",
   "execution_count": 14,
   "metadata": {},
   "outputs": [
    {
     "data": {
      "text/plain": [
       "['p', 'a', 'n', 'e', 'n', 'g', 'n', 'e', 'f', 'a', 'j']"
      ]
     },
     "execution_count": 14,
     "metadata": {},
     "output_type": "execute_result"
    }
   ],
   "source": [
    "L = list(\"panengnefaj\")\n",
    "L"
   ]
  },
  {
   "cell_type": "code",
   "execution_count": 18,
   "metadata": {},
   "outputs": [
    {
     "data": {
      "text/plain": [
       "[1,\n",
       " -2,\n",
       " -5,\n",
       " -8,\n",
       " -11,\n",
       " -14,\n",
       " -17,\n",
       " -20,\n",
       " -23,\n",
       " -26,\n",
       " -29,\n",
       " -32,\n",
       " -35,\n",
       " -38,\n",
       " -41,\n",
       " -44,\n",
       " -47,\n",
       " -50,\n",
       " -53,\n",
       " -56,\n",
       " -59,\n",
       " -62,\n",
       " -65,\n",
       " -68,\n",
       " -71,\n",
       " -74,\n",
       " -77,\n",
       " -80,\n",
       " -83,\n",
       " -86,\n",
       " -89,\n",
       " -92,\n",
       " -95,\n",
       " -98,\n",
       " -101,\n",
       " -104,\n",
       " -107,\n",
       " -110,\n",
       " -113,\n",
       " -116,\n",
       " -119,\n",
       " -122,\n",
       " -125,\n",
       " -128,\n",
       " -131,\n",
       " -134,\n",
       " -137,\n",
       " -140,\n",
       " -143,\n",
       " -146,\n",
       " -149,\n",
       " -152,\n",
       " -155,\n",
       " -158,\n",
       " -161,\n",
       " -164,\n",
       " -167,\n",
       " -170,\n",
       " -173,\n",
       " -176,\n",
       " -179,\n",
       " -182,\n",
       " -185,\n",
       " -188,\n",
       " -191,\n",
       " -194,\n",
       " -197]"
      ]
     },
     "execution_count": 18,
     "metadata": {},
     "output_type": "execute_result"
    }
   ],
   "source": [
    "L = list(range(1, -199, -3))\n",
    "L"
   ]
  },
  {
   "cell_type": "code",
   "execution_count": 20,
   "metadata": {},
   "outputs": [
    {
     "data": {
      "text/plain": [
       "[None, True, False, 0, 4]"
      ]
     },
     "execution_count": 20,
     "metadata": {},
     "output_type": "execute_result"
    }
   ],
   "source": [
    "L = [None, True, False, 0, 4]\n",
    "L"
   ]
  },
  {
   "cell_type": "markdown",
   "metadata": {},
   "source": [
    "## 列表的运算\n",
    "\n",
    "运算符：\n",
    "\n",
    "+、+=、*、*=\n",
    "\n",
    "+：用于拼接列表，\n",
    "\n",
    "+= :用于将右侧的可迭代对象的数据追加到原来的列表中\n",
    " \n",
    "*：用于生成重复的列表\n"
   ]
  },
  {
   "cell_type": "code",
   "execution_count": 23,
   "metadata": {},
   "outputs": [
    {
     "name": "stdout",
     "output_type": "stream",
     "text": [
      "[1, 3, 5, 4, 65, 6] [4, 65, 6, 1, 3, 5]\n"
     ]
    }
   ],
   "source": [
    "x = [1, 3, 5]\n",
    "y = [4, 65, 6]\n",
    "z1 = x+y\n",
    "z2 = y+x\n",
    "print(z1,z2)"
   ]
  },
  {
   "cell_type": "code",
   "execution_count": 26,
   "metadata": {},
   "outputs": [
    {
     "name": "stdout",
     "output_type": "stream",
     "text": [
      "2489974113224\n",
      "2489974113224\n",
      "[1, 2, 3, 'A', 'B', 'C']\n"
     ]
    }
   ],
   "source": [
    "x = [1, 2, 3]\n",
    "print(id(x))\n",
    "x += \"ABC\"\n",
    "print(id(x))\n",
    "print(x)"
   ]
  },
  {
   "cell_type": "code",
   "execution_count": 28,
   "metadata": {},
   "outputs": [
    {
     "name": "stdout",
     "output_type": "stream",
     "text": [
      "[1, 2, 3, 1, 2, 3, 1, 2, 3]\n"
     ]
    }
   ],
   "source": [
    "L = [1, 2, 3]\n",
    "print(L*3)"
   ]
  },
  {
   "cell_type": "code",
   "execution_count": 30,
   "metadata": {},
   "outputs": [
    {
     "name": "stdout",
     "output_type": "stream",
     "text": [
      "请输入任意字符：gsd\n",
      "请输入任意字符：个\n",
      "请输入任意字符：公司\n",
      "['gsd', '个', '公司']\n"
     ]
    }
   ],
   "source": [
    "\"\"\"\n",
    "练习：\n",
    "输入三行文字，将这三行文字保存于一个列表中，并打印出来。\n",
    "\"\"\"\n",
    "s1 = input(\"请输入任意字符：\")\n",
    "s2 = input(\"请输入任意字符：\")\n",
    "s3 = input(\"请输入任意字符：\")\n",
    "L = [s1, s2, s3]\n",
    "print(L)"
   ]
  },
  {
   "cell_type": "code",
   "execution_count": null,
   "metadata": {},
   "outputs": [],
   "source": [
    "n = int(input(\"请输入整数n：\"))\n",
    "s = 0\n",
    "for i in range(1, 2**n+1):\n",
    "    s += i\n",
    "print(\"所求的和为\",s)    \n",
    "\n"
   ]
  }
 ],
 "metadata": {
  "kernelspec": {
   "display_name": "Python 3",
   "language": "python",
   "name": "python3"
  },
  "language_info": {
   "codemirror_mode": {
    "name": "ipython",
    "version": 3
   },
   "file_extension": ".py",
   "mimetype": "text/x-python",
   "name": "python",
   "nbconvert_exporter": "python",
   "pygments_lexer": "ipython3",
   "version": "3.7.3"
  }
 },
 "nbformat": 4,
 "nbformat_minor": 2
}
